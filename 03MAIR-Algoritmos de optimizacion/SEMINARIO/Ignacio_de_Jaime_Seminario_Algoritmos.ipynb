{
  "nbformat": 4,
  "nbformat_minor": 0,
  "metadata": {
    "colab": {
      "name": "Ignacio de Jaime_Seminario_Algoritmos.ipynb",
      "provenance": [],
      "collapsed_sections": [],
      "include_colab_link": true
    },
    "kernelspec": {
      "name": "python3",
      "display_name": "Python 3"
    }
  },
  "cells": [
    {
      "cell_type": "markdown",
      "metadata": {
        "id": "view-in-github",
        "colab_type": "text"
      },
      "source": [
        "<a href=\"https://colab.research.google.com/github/ignacio727/03MAIR-Algoritmos-de-Optimizacion-2020/blob/main/03MAIR-Algoritmos%20de%20optimizacion/SEMINARIO/Ignacio_de_Jaime_Seminario_Algoritmos.ipynb\" target=\"_parent\"><img src=\"https://colab.research.google.com/assets/colab-badge.svg\" alt=\"Open In Colab\"/></a>"
      ]
    },
    {
      "cell_type": "markdown",
      "metadata": {
        "id": "hVbXYX-RfPWh"
      },
      "source": [
        "# Algoritmos de optimización - Seminario<br>\n",
        "Nombre y Apellidos: Ignacio de Jaime Hernández  <br>\n",
        "\n",
        "Url Colab: https://colab.research.google.com/drive/18YRvIjXVhA_o3yCHMc9or_NJyrK71Vss?usp=sharing\n",
        "\n",
        "Url: https://github.com/ignacio727/03MAIR-Algoritmos-de-Optimizacion-2020/tree/main/03MAIR-Algoritmos%20de%20optimizacion/SEMINARIO<br>\n",
        "Problema:\n",
        "> 1. Organizar sesiones de doblaje <br>\n",
        "><strike>2. Organizar los horarios de partidos de La Liga</strike> <br>\n",
        "><strike>3. Combinar cifras y operaciones</strike>\n",
        "\n",
        "Descripción del problema:\n",
        "Se precisa coordinar el doblaje de una película. Los actores del doblaje deben coincidir en las\n",
        "tomas en las que sus personajes aparecen juntos en las diferentes tomas. Los actores de\n",
        "doblaje cobran todos la misma cantidad por cada día que deben desplazarse hasta el estudio\n",
        "de grabación independientemente del número de tomas que se graben. No es posible grabar\n",
        "más de 6 tomas por día. El objetivo es planificar las sesiones por día de manera que el gasto\n",
        "por los servicios de los actores de doblaje sea el menor posible. Los datos son:\n",
        "\n",
        "Número de actores: 10\n",
        "\n",
        "Número de tomas : 30\n",
        "\n",
        "Actores/Tomas : https://bit.ly/36D8IuK\n",
        "\n",
        "....\n",
        "\n",
        "(*) La respuesta es obligatoria\n",
        "\n",
        "\n",
        "\n",
        "\n",
        "\n",
        "                                        "
      ]
    },
    {
      "cell_type": "markdown",
      "metadata": {
        "id": "3_-exlrTgLd-"
      },
      "source": [
        "(*)¿Cuantas posibilidades hay sin tener en cuenta las restricciones?<br>"
      ]
    },
    {
      "cell_type": "markdown",
      "metadata": {
        "id": "WfCUqJyKhPcw"
      },
      "source": [
        "A la hora de afrontar como ordenar todas las posibilidades, se puede ver que la selección de tomas para cada día se puede representar como un árbol, donde cada nivel del árbol serían las tomas seleccionadas para un día. El primer nivel serían las tomas del primer día, el segundo nivel las del segundo día y así sucesivamente.\n",
        "\n",
        "Con esto en mente y si uno realiza los casos para 1, 2 y 3 tomas, se puede ir viendo un patrón que se va repitiendo. Llamando $P_{n}$ a las posibilidades de seleccionar $n$ tomas sin ninguna restricción, entonces:\n",
        "\n",
        "$$P_{1}=1$$\n",
        "$$P_{2}=3$$\n",
        "$$P_{3}=13$$\n",
        "\n",
        "El caso de $P_{1}$ es trivial y es partir de los siguientes casos donde se va a poder ver como se construyen. Para el caso de $P_{2}$ las posiblididades son, si designamos a las distintas tomas como letras:\n",
        "\n",
        "<figure>\n",
        "<center>\n",
        "<img src='https://drive.google.com/uc?export=view&id=13yMQyOdSRMtQMsPX4dGFzkxi8JClKZU8' width=\"300\" height=\"300\"/>\n",
        "<figcaption>Árbol de decisión para N=2</figcaption></center>\n",
        "</figure>\n",
        "\n",
        "Es decir, el caso de seleccionar la toma $A$ el primer día y la $B$ el segundo día, seleccionar primero la $B$ y luego la $A$, y seleccionar ambas tomas el primer día. Para 2 tomas aún sigue siendo algo difícil de ver, es ya para $P_{3}$ donde se puede observar más claro el patrón para cualquier número de tomas.\n",
        "\n",
        "<figure>\n",
        "<center>\n",
        "<img src='https://drive.google.com/uc?export=view&id=1DMFSPoGOCqgc5ztiZgvwRAfNlL5RBejy' width=\"720\" height=\"300\"/>\n",
        "<figcaption>Árbol de decisión para N=3</figcaption></center>\n",
        "</figure>\n",
        "\n",
        "Se puede comprobar como efectivamente hay 13 nodos finales. La clave aquí está en fijarse que los 3 sub-árboles de la izquierda cuyas raíces son A, B y C son exactamente iguales al arbol de decisión del caso de 2 tomas, lo cual tiene lógica porque una vez seleccionada 1 toma, quedarían 2 tomas restantes para seleccionar, lo cual es exáctamente el caso $P_{2}$.\n",
        "\n",
        "Igualmente los 3 sub-árboles más a la derecha cuyas raíces son AB, AC y BC son los casos $P_{1}$, ya que una vez seleccionadas 2 tomas solamente quedaría 1 restante. Y por último, el nodo más a la derecha sería algo así como el caso $P_{0}$, el cual valdría 1.\n",
        "\n",
        "Por tanto, lo único que quedaría por averiguar sería cuantos casos $P_{0}$, $P_{1}$ y $P_{2}$ hay dentro del arbol de decisión, lo cual es preguntarse cuantas formas hay de combinar sin repetición las 3 tomas, para grupos de 3 elementos (sub-árbol $P_{0}$), grupos de 2 elementos (sub-árboles $P_{1}$) y grupos de 1 elemento (sub-árboles $P_{2}$). \n",
        "\n",
        "La respuesta a esta pregunta la da la rama de las matemáticas de combinatoria. Por tanto $P_{3}$ se puede calcular como:\n",
        "\n",
        "$$P_{3}=\\begin{pmatrix}3\\\\\n",
        "3\n",
        "\\end{pmatrix}P_{0}+\\begin{pmatrix}3\\\\\n",
        "2\n",
        "\\end{pmatrix}P_{1}+\\begin{pmatrix}3\\\\\n",
        "1\n",
        "\\end{pmatrix}P_{2}$$\n",
        "\n",
        "Recordar que:\n",
        "\n",
        "$$\\begin{pmatrix}n\\\\\n",
        "p\n",
        "\\end{pmatrix}=\\frac{n!}{p!\\left(n-p\\right)!}$$\n",
        "\n",
        "Si se generaliza quedaría lo siguiente:\n",
        "\n",
        "$$P_{n}=\\begin{pmatrix}n\\\\\n",
        "n\n",
        "\\end{pmatrix}P_{0}+\\begin{pmatrix}n\\\\\n",
        "n-1\n",
        "\\end{pmatrix}P_{1}+\\begin{pmatrix}n\\\\\n",
        "n-2\n",
        "\\end{pmatrix}P_{2}+\\cdots+\\begin{pmatrix}n\\\\\n",
        "1\n",
        "\\end{pmatrix}P_{n-1}$$\n",
        "\n",
        "Lo cual puesto en forma de sumatorio es:\n",
        "\n",
        "$$P_{n}=\\sum_{i=0}^{n-1}\\begin{pmatrix}n\\\\\n",
        "n-i\n",
        "\\end{pmatrix}P_{i}$$\n",
        "\n",
        "Siendo $P_{0}=1$.\n",
        "\n",
        "De esta forma se puede calcular de forma iteraritiva todas las posibilidades.\n"
      ]
    },
    {
      "cell_type": "code",
      "metadata": {
        "id": "iq6Fe32MgpDX",
        "colab": {
          "base_uri": "https://localhost:8080/"
        },
        "outputId": "4b18954c-5b69-4cdf-e5d3-2d7a265455e7"
      },
      "source": [
        "from math import factorial\n",
        "\n",
        "def posibilidades_sin_restriccion(N):\n",
        "  P = [1] # P[0]\n",
        "  for n in range(1, N+1): # Calculo de todas las P_n intermedias\n",
        "    sum = 0\n",
        "    for i in range(n): # Sumatorio para calcular cada P_n\n",
        "      sum += (factorial(n) // (factorial(n-i) * factorial(i))) * P[i] \n",
        "\n",
        "    P.append(sum)\n",
        "  return P\n",
        "\n",
        "print('P_3 =', posibilidades_sin_restriccion(3)[-1])\n",
        "print('Las posibilidades sin restricción para 30 tomas son %0.4e' \n",
        "      %posibilidades_sin_restriccion(30)[-1])"
      ],
      "execution_count": 132,
      "outputs": [
        {
          "output_type": "stream",
          "text": [
            "P_3 = 13\n",
            "Las posibilidades sin restricción para 30 tomas son 1.1404e+37\n"
          ],
          "name": "stdout"
        }
      ]
    },
    {
      "cell_type": "markdown",
      "metadata": {
        "id": "EIHD7Yf4WtrS"
      },
      "source": [
        "¿Cuantas posibilidades hay teniendo en cuenta todas las restricciones?"
      ]
    },
    {
      "cell_type": "markdown",
      "metadata": {
        "id": "eOzBASZmWvZh"
      },
      "source": [
        "Si se tienen en cuenta las restricciones entonces las posibilidades disminuyen. Para calcular este nuevo caso se va a usar el mismo método que cuando no había restricciones. Es decir, se va a ver la cantidad de posibilidades para un número de tomas reducido para una cierta restricción y ver como construirlos. Llamando $_{r}P_{n}$ al número de posibilidades para $n$ tomas y la restricción de $r$ tomas como máximo para cada día, entonces:\n",
        "\n",
        "$$_{2}P_{1}=1$$\n",
        "$$_{2}P_{2}=3$$\n",
        "$$_{2}P_{3}=12$$\n",
        "\n",
        "Para empezar, fijarse que en aquellos casos donde $r\\geq n$ el número de posibilidades va a ser el mismo que para el caso sin restricciones, lo cual es lógico, ya que si la restricción es igual o mayor al número de tomas, entonces es equivalente a no tener restricciones. Es en los casos donde $r<n$ donde está lo interesante. Si se sigue una estructura análoga al caso sin restricciones, entonces no es díficil darse cuenta que aquellas combinaciones donde los grupos son de más elementos que $r$ no están permitidas. Por tanto, el caso de $_{2}P_{3}$, se podría construir como:\n",
        "\n",
        "$$_{2}P_{3}=\\begin{pmatrix}3\\\\\n",
        "2\n",
        "\\end{pmatrix}{}_{2}P_{1}+\\begin{pmatrix}3\\\\\n",
        "1\n",
        "\\end{pmatrix}{}_{2}P_{2}$$\n",
        "\n",
        "Fijarse que el caso $\\begin{pmatrix}3\\\\\n",
        "3\n",
        "\\end{pmatrix}{}_{2}P_{0}$ no estaría permitido por la restricción. Esta formulación se puede generalizar como:\n",
        "\n",
        "$$_{r}P_{n}=\\begin{pmatrix}n\\\\\n",
        "r\n",
        "\\end{pmatrix}{}_{r}P_{n-r}+\\begin{pmatrix}n\\\\\n",
        "r-1\n",
        "\\end{pmatrix}{}_{r}P_{n-r+1}+\\cdots+\\begin{pmatrix}n\\\\\n",
        "1\n",
        "\\end{pmatrix}{}_{r}P_{n-1}$$\n",
        "\n",
        "Lo cual puesto en forma de sumatorio queda:\n",
        "\n",
        "$$_{r}P_{n}=\\sum_{i=n-r}^{n-1}\\begin{pmatrix}n\\\\\n",
        "n-i\n",
        "\\end{pmatrix}{}_{r}P_{i};\\;\\mathrm{si}\\,\\,r>n\\,\\,\\mathrm{entonces\\,\\,}r=n$$\n",
        "\n",
        "Hay que tener cuidado con esta formula ya que en el cálculo de los $_{r}P_{n}$ donde $r>n$ aparecerían $i$ negativos. Como todos esos casos son equivalentes al sin restricción, es decir, $r=n$, habría que poner la condición de que si $r>n$ entonces $r=n$ para ese caso. Destacar a parte del caso $r=n$, equivalente a no tener restricciones, el caso $r=1$, este sería el más restrictivo e equivalente al problema de ordenar $n$ elementos, es decir, $n!$.  \n",
        "\n",
        "Puesto en Python quedaría:"
      ]
    },
    {
      "cell_type": "code",
      "metadata": {
        "colab": {
          "base_uri": "https://localhost:8080/"
        },
        "id": "Ue2Pmzy9jAzJ",
        "outputId": "a8828ae3-c429-4207-b6aa-cdaf2e3fc747"
      },
      "source": [
        "def posibilidades(R, N):\n",
        "  P = [1] # r_P[0]\n",
        "  for n in range(1, N+1): # Calculo de todas las r_P_n intermedias\n",
        "    sum = 0\n",
        "    if R>n: # Condición para evitar i negativas\n",
        "      r = n\n",
        "    else:\n",
        "      r = R\n",
        "    for i in range(n-r, n): # Sumatorio para calcular cada r_P_n\n",
        "      sum += (factorial(n) // (factorial(n-i) * factorial(i))) * P[i] \n",
        "\n",
        "    P.append(sum)\n",
        "  return P\n",
        "\n",
        "print('2_P_3 =', posibilidades(2, 4)[-1])\n",
        "print('Las posibilidades sin restricción para 30 tomas son %0.0i = %0.6e' \n",
        "      %(posibilidades(30, 30)[-1], posibilidades(30, 30)[-1]))\n",
        "print('Las posibilidades con restricción para 30 tomas son %0.0i = %0.6e' \n",
        "      %(posibilidades(6, 30)[-1], posibilidades(6, 30)[-1]))"
      ],
      "execution_count": 133,
      "outputs": [
        {
          "output_type": "stream",
          "text": [
            "2_P_3 = 66\n",
            "Las posibilidades sin restricción para 30 tomas son 11403568794011880483742464196184901963 = 1.140357e+37\n",
            "Las posibilidades con restricción para 30 tomas son 11400192964820635839099878586991366320 = 1.140019e+37\n"
          ],
          "name": "stdout"
        }
      ]
    },
    {
      "cell_type": "markdown",
      "metadata": {
        "id": "zPQnWheXoTCK"
      },
      "source": [
        "Fijarse que aunque con la restricción la cantidad de posibilidades se reduce, para lo datos del problema sigue siendo del mismo orden que el caso sin restricción.\n",
        "\n",
        "Añadir que habría una posible restricción más. Las selecciones de tomas donde los grupos de estas fuesen los mismos, pero en días diferentes, van a dar el mismo gasto, siendo equivalentes en relación al gasto. Un ejemplo de esto son todos los casos de grabar una única toma diaria, aunque si tenemos en cuenta que día se graba cada toma entonces hay $n!$ posibilidades de ordenarlas, en todos esos casos el gasto va a ser el mismo, ya que los días son independientes entre si. El cálculo de esta restricción ya sí sería más complejo.   "
      ]
    },
    {
      "cell_type": "markdown",
      "metadata": {
        "id": "dzynfVJahHoY"
      },
      "source": [
        "Modelo para el espacio de soluciones<br>\n",
        "(*) ¿Cual es la estructura de datos que mejor se adapta al problema? Argumentalo.(Es posible que hayas elegido una al principio y veas la necesidad de cambiar, argumentalo)\n"
      ]
    },
    {
      "cell_type": "markdown",
      "metadata": {
        "id": "xFIJrOwKi2Ti"
      },
      "source": [
        "La estructura que seguramente mejor se adapta al problema, o al menos la más simple, es una lista de tamaño $n$(tomas), donde la posición o índice se corresponda al número de toma y el valor al día de grabación de esa toma, siendo el primer día posible el 0.\n",
        "\n",
        "Respetar la restricción de 6 tomas diarias máximas implica que la lista solución deberá cumplir la restricción de que haya como máximo 6 elementos iguales.\n",
        "\n"
      ]
    },
    {
      "cell_type": "code",
      "metadata": {
        "id": "38c-7-ejhJmA",
        "colab": {
          "base_uri": "https://localhost:8080/"
        },
        "outputId": "93fbe2c8-e61e-4a09-cd27-64ee3170f866"
      },
      "source": [
        "sol = []\n",
        "for i in range(30):\n",
        "  while sol.count(i) < 6:\n",
        "    if len(sol) < 30:\n",
        "      sol.append(i)\n",
        "    else:\n",
        "      break\n",
        "  if len(sol) == 30:\n",
        "    break\n",
        "\n",
        "sol"
      ],
      "execution_count": 134,
      "outputs": [
        {
          "output_type": "execute_result",
          "data": {
            "text/plain": [
              "[0,\n",
              " 0,\n",
              " 0,\n",
              " 0,\n",
              " 0,\n",
              " 0,\n",
              " 1,\n",
              " 1,\n",
              " 1,\n",
              " 1,\n",
              " 1,\n",
              " 1,\n",
              " 2,\n",
              " 2,\n",
              " 2,\n",
              " 2,\n",
              " 2,\n",
              " 2,\n",
              " 3,\n",
              " 3,\n",
              " 3,\n",
              " 3,\n",
              " 3,\n",
              " 3,\n",
              " 4,\n",
              " 4,\n",
              " 4,\n",
              " 4,\n",
              " 4,\n",
              " 4]"
            ]
          },
          "metadata": {
            "tags": []
          },
          "execution_count": 134
        }
      ]
    },
    {
      "cell_type": "markdown",
      "metadata": {
        "id": "7Z9U2W7bi-XS"
      },
      "source": [
        "Según el modelo para el espacio de soluciones<br>\n",
        "(*)¿Cual es la función objetivo?\n",
        "\n",
        "(*)¿Es un problema de maximización o minimización?"
      ]
    },
    {
      "cell_type": "markdown",
      "metadata": {
        "id": "hBalWLM7j1_d"
      },
      "source": [
        "La función objetivo es una que calcule el gasto total por los servicios de los actores, teniendo en cuenta que una vez que un actor ha ido un día, el gasto de ese actor para ese día será el mismo independientemente del número de tomas grabadas. Como el gasto por actor y por día es el mismo para todos, por simplicidad se escogerá que ese gasto es 1. De esta manera si se quisiese conocer el gasto total real en el futuro, simplemente habría que multiplicar el gasto calculado por el sueldo por día de los actores.\n",
        "\n",
        "Este problema sería un problema de minimización de la función objetivo, en este caso, el gasto total por los actores."
      ]
    },
    {
      "cell_type": "code",
      "metadata": {
        "id": "hy2XLzd_3wBo"
      },
      "source": [
        "import numpy as np\n",
        "\n",
        "tomas_actores = np.array( \n",
        "                [[1,\t1,\t1,\t1,\t1,\t0,\t0,\t0,\t0,\t0],\n",
        "                 [0,\t0,\t1,\t1,\t1,\t0,\t0,\t0,\t0,\t0],\n",
        "                 [0,\t1,\t0,\t0,\t1,\t0,\t1,\t0,\t0,\t0],\n",
        "                 [1,\t1,\t0,\t0,\t0,\t0,\t1,\t1,\t0,\t0],\n",
        "                 [0,\t1,\t0,\t1,\t0,\t0,\t0,\t1,\t0,\t0],\n",
        "                 [1,\t1,\t0,\t1,\t1,\t0,\t0,\t0,\t0,\t0],\n",
        "                 [1,\t1,\t0,\t1,\t1,\t0,\t0,\t0,\t0,\t0],\n",
        "                 [1,\t1,\t0,\t0,\t0,\t1,\t0,\t0,\t0,\t0],\n",
        "                 [1,\t1,\t0,\t1,\t0,\t0,\t0,\t0,\t0,\t0],\n",
        "                 [1,\t1,\t0,\t0,\t0,\t1,\t0,\t0,\t1,\t0],\n",
        "                 [1,\t1,\t1,\t0,\t1,\t0,\t0,\t1,\t0,\t0],\n",
        "                 [1,\t1,\t1,\t1,\t0,\t1,\t0,\t0,\t0,\t0],\n",
        "                 [1,\t0,\t0,\t1,\t1,\t0,\t0,\t0,\t0,\t0],\n",
        "                 [1,\t0,\t1,\t0,\t0,\t1,\t0,\t0,\t0,\t0],\n",
        "                 [1,\t1,\t0,\t0,\t0,\t0,\t1,\t0,\t0,\t0],\n",
        "                 [0,\t0,\t0,\t1,\t0,\t0,\t0,\t0,\t0,\t1],\n",
        "                 [1,\t0,\t1,\t0,\t0,\t0,\t0,\t0,\t0,\t0],\n",
        "                 [0,\t0,\t1,\t0,\t0,\t1,\t0,\t0,\t0,\t0],\n",
        "                 [1,\t0,\t1,\t0,\t0,\t0,  0,\t0,\t0,\t0],\n",
        "                 [1,\t0,\t1,\t1,\t1,\t0,\t0,\t0,\t0,\t0],\n",
        "                 [0,\t0,\t0,\t0,\t0,\t1,\t0,\t1,\t0,\t0],\n",
        "                 [1,\t1,\t1,\t1,\t0,\t0,\t0,\t0,\t0,\t0],\n",
        "                 [1,\t0,\t1,\t0,\t0,\t0,\t0,\t0,\t0,\t0],\n",
        "                 [0,\t0,\t1,\t0,\t0,\t1,\t0,\t0,\t0,\t0],\n",
        "                 [1,\t1,\t0,\t1,\t0,\t0,\t0,\t0,\t0,\t1],\n",
        "                 [1,\t0,\t1,\t0,\t1,\t0,\t0,\t0,\t1,\t0],\n",
        "                 [0,\t0,\t0,  1,\t1,\t0,\t0,\t0,\t0,\t0],\n",
        "                 [1,\t0,\t0,\t1,\t0,\t0,\t0,\t0,\t0,\t0],\n",
        "                 [1,\t0,\t0,\t0,\t1,\t1,\t0,\t0,\t0,\t0],\n",
        "                 [1,\t0,\t0,\t1,\t0,\t0,\t0,\t0,\t0,\t0]])"
      ],
      "execution_count": 135,
      "outputs": []
    },
    {
      "cell_type": "code",
      "metadata": {
        "id": "pDA-rg3Gj5Lz",
        "colab": {
          "base_uri": "https://localhost:8080/"
        },
        "outputId": "a6446994-c448-41c5-c352-4105e8350d8a"
      },
      "source": [
        "def gasto(sol, tomas_actores):\n",
        "  actores_dias = np.zeros([tomas_actores.shape[1], int(max(sol))+1])\n",
        "  gasto = 0\n",
        "  for n in range(len(sol)): # Para cada toma\n",
        "    for j in range(tomas_actores.shape[1]): # Para cada actor\n",
        "    # Si ese actor está en la toma n y aún no había ido ese día se suma al gasto\n",
        "      if tomas_actores[n, j] == 1 and actores_dias[j, int(sol[n])] == 0:\n",
        "        actores_dias[j, int(sol[n])] = 1\n",
        "        gasto += 1\n",
        "      elif tomas_actores[n, j] == 1: # Si está pero ya había ido no suma al gasto\n",
        "        actores_dias[j, int(sol[n])] += 1 # Para ver cuantas tomas ha tenido ese día\n",
        "  return gasto, actores_dias\n",
        "\n",
        "gasto(sol, tomas_actores)"
      ],
      "execution_count": 136,
      "outputs": [
        {
          "output_type": "execute_result",
          "data": {
            "text/plain": [
              "(38, array([[3., 6., 4., 4., 5.],\n",
              "        [5., 6., 1., 1., 1.],\n",
              "        [2., 2., 3., 5., 1.],\n",
              "        [4., 3., 2., 2., 4.],\n",
              "        [4., 2., 1., 1., 3.],\n",
              "        [0., 3., 2., 2., 1.],\n",
              "        [2., 0., 1., 0., 0.],\n",
              "        [2., 1., 0., 1., 0.],\n",
              "        [0., 1., 0., 0., 1.],\n",
              "        [0., 0., 1., 0., 1.]]))"
            ]
          },
          "metadata": {
            "tags": []
          },
          "execution_count": 136
        }
      ]
    },
    {
      "cell_type": "markdown",
      "metadata": {
        "id": "5yaAPDr4cEJb"
      },
      "source": [
        "La función devuelve el gasto total y la matriz actores_dias, la cual cada fila es un actor y cada columna un día. Los valores en ella son el número de tomas que el actor (fila) ha hecho en el día (columna).\n",
        "\n",
        "Además, tambíen es sencillo calcular la cota inferior y superior del problema total. Serían las siguientes:"
      ]
    },
    {
      "cell_type": "code",
      "metadata": {
        "colab": {
          "base_uri": "https://localhost:8080/"
        },
        "id": "fZAMrlmnECpn",
        "outputId": "28608021-b0f3-43b1-9814-1863e1b75fc4"
      },
      "source": [
        "def cota_inferior_total(tomas_actores, r=6):\n",
        "  J = tomas_actores.shape[1]\n",
        "  cota = 0\n",
        "  for j in range(J): # Para cada actor\n",
        "  # El mínimo de días que necesitaría para hacer todas sus tomas\n",
        "    cota += np.ceil(np.sum(tomas_actores[:, j]) / r)\n",
        "\n",
        "  return cota\n",
        "\n",
        "def cota_superior_total(tomas_actores, r=6):\n",
        "  J = tomas_actores.shape[1]\n",
        "  cota = 0\n",
        "  for j in range(J): # Para cada actor\n",
        "  # El caso de que cada actor vaya un día para cada toma\n",
        "    cota += np.sum(tomas_actores[:, j])\n",
        "\n",
        "  return cota\n",
        "\n",
        "print('Cota inferior:', cota_inferior_total(tomas_actores))\n",
        "print('Cota superior:', cota_superior_total(tomas_actores))"
      ],
      "execution_count": 145,
      "outputs": [
        {
          "output_type": "stream",
          "text": [
            "Cota inferior: 21.0\n",
            "Cota superior: 94\n"
          ],
          "name": "stdout"
        }
      ]
    },
    {
      "cell_type": "markdown",
      "metadata": {
        "id": "rlnTYgY1j6I2"
      },
      "source": [
        "Diseña un algoritmo para resolver el problema por fuerza bruta"
      ]
    },
    {
      "cell_type": "markdown",
      "metadata": {
        "id": "70rDgxYXkC8r"
      },
      "source": [
        "Respuesta"
      ]
    },
    {
      "cell_type": "code",
      "metadata": {
        "id": "CJb5sQ0qkENy"
      },
      "source": [
        ""
      ],
      "execution_count": null,
      "outputs": []
    },
    {
      "cell_type": "markdown",
      "metadata": {
        "id": "tgrnsC2nkFa8"
      },
      "source": [
        "Calcula la complejidad del algoritmo por fuerza bruta"
      ]
    },
    {
      "cell_type": "markdown",
      "metadata": {
        "id": "9eUd3xwckP68"
      },
      "source": [
        "Respuesta"
      ]
    },
    {
      "cell_type": "code",
      "metadata": {
        "id": "rvZWwL-ckRST"
      },
      "source": [
        ""
      ],
      "execution_count": null,
      "outputs": []
    },
    {
      "cell_type": "markdown",
      "metadata": {
        "id": "txbrmLmskReM"
      },
      "source": [
        "(*)Diseña un algoritmo que mejore la complejidad del algortimo por fuerza bruta. Argumenta porque crees que mejora el algoritmo por fuerza bruta"
      ]
    },
    {
      "cell_type": "markdown",
      "metadata": {
        "id": "hLrVwt5QkZPD"
      },
      "source": [
        "Para resolver el problema se va a hacer uso de un algoritmo voraz, el cual va a seguir las siguientes reglas. \n",
        "\n",
        "Para cada día se va a comenzar escogiendo la toma con más actores involucrados que quede disponible, en caso de empate se escogerá la última que apareciese. \n",
        "\n",
        "Una vez escogida la primera del día, la siguiente toma se escogera contando en el resto de tomas disponibles el número de coincidencias entre sus actores y la última escogida. En caso de empate se seleccionará la última que apareciese. \n",
        "\n",
        "Así sucesivamente hasta completar el número máximo de tomas diarias. Una vez alcanzado se pasará al siguiente día y se volverá a repetir el proceso, así hasta que todas las tomas hayan sido escogidas."
      ]
    },
    {
      "cell_type": "code",
      "metadata": {
        "id": "m1eyM21Vkabg",
        "colab": {
          "base_uri": "https://localhost:8080/"
        },
        "outputId": "395cfd1d-61e6-4117-95ca-6f4889309cfa"
      },
      "source": [
        "def voraz(tomas_actores, r=6):\n",
        "  N = tomas_actores.shape[0] # Número de tomas\n",
        "  J = tomas_actores.shape[1] # Número de actores\n",
        "  sol = np.ones(N) * -1 # Inicialización de la solución\n",
        "  tomas_usadas = np.zeros(N) # Para comprobar si una toma ha sido usada o no\n",
        "  for i in range(int(np.ceil(N/r))): # Cálculo de las tomas para cada día\n",
        "    if tomas_usadas.sum() == N: # Si todas las tomas ya han sido usadas terminar\n",
        "      break\n",
        "    n_actores = -1\n",
        "    for n in range(N): # Comprobar para cada toma\n",
        "      if tomas_usadas[n] == 0: # Solo si la toma aún no ha sido usada\n",
        "        if np.sum(tomas_actores[n, :]) >= n_actores: # La que más actores tenga\n",
        "          n_actores = np.sum(tomas_actores[n, :])\n",
        "          toma_max = n # La toma con más actores por ahora es n\n",
        "    \n",
        "    sol[toma_max] = i # Se añade la toma con más actores a la solución\n",
        "    tomas_usadas[toma_max] = 1 # Se indica como ya usada\n",
        "    if tomas_usadas.sum() == N: # Si todas las tomas ya han sido usadas terminar\n",
        "      break\n",
        "    toma_ant = toma_max # Para saber cual era la toma anterior\n",
        "\n",
        "    for _ in range(r-1): # Se completan el resto de tomas del día (r-1)\n",
        "      act_coincide_max = -1\n",
        "      for n in range(N): # Comprobar para cada toma\n",
        "        if tomas_usadas[n] == 0: # Solo si la toma aún no ha sido usada\n",
        "          act_coincide = 0\n",
        "          for j in range(J): # Para cada actor\n",
        "          # Si la toma anterior y la nueva valen ambas 1 para el actor j\n",
        "            if tomas_actores[toma_ant, j] == 1 and tomas_actores[n, j] == 1:\n",
        "              act_coincide += 1 # Si es así se añade una coincidencia más\n",
        "          \n",
        "          if act_coincide >= act_coincide_max: # Solo nos quedamos la que más tenga\n",
        "            act_coincide_max = act_coincide\n",
        "            toma_max = n\n",
        "      \n",
        "      sol[toma_max] = i # Se añade la toma con más coincidencias a la solución\n",
        "      tomas_usadas[toma_max] = 1 # Se indica como ya usada\n",
        "      if tomas_usadas.sum() == N: # Si todas las tomas ya han sido usadas terminar\n",
        "        break\n",
        "      toma_ant = toma_max # Se cambia la toma anterior a la nueva\n",
        "\n",
        "  return sol\n",
        "\n",
        "solucion = voraz(tomas_actores)\n",
        "\n",
        "print(solucion)\n",
        "print('Gasto total:', gasto(solucion, tomas_actores)[0])"
      ],
      "execution_count": 146,
      "outputs": [
        {
          "output_type": "stream",
          "text": [
            "[0. 3. 3. 3. 4. 1. 1. 2. 1. 2. 0. 0. 1. 2. 3. 4. 4. 2. 4. 0. 4. 0. 4. 2.\n",
            " 1. 0. 3. 3. 2. 1.]\n",
            "Gasto total: 33\n"
          ],
          "name": "stdout"
        }
      ]
    },
    {
      "cell_type": "markdown",
      "metadata": {
        "id": "ss4K66GOEovN"
      },
      "source": [
        "En principio el resultado debería, si no ser el más óptimo (es difícil de saber), sí que acercarse bastante a la solución óptima. "
      ]
    },
    {
      "cell_type": "markdown",
      "metadata": {
        "id": "eGDB4K6uk1iN"
      },
      "source": [
        "(*)Calcula la complejidad del algoritmo "
      ]
    },
    {
      "cell_type": "markdown",
      "metadata": {
        "id": "NhpTh_BPk1ms"
      },
      "source": [
        "El número de operaciones, considerando que $n$ es el número de tomas, $j$ el número de actores y $r$ las restricción de tomas máximas al día, empezando de arriba hacia abajo es:\n",
        "\n",
        "$$\\mathrm{Operaciones}=4+\\frac{n}{r}\\left(2+4n+4+\\left(r-1\\right)\\left(1+n\\left(2+2j+3\\right)+4\\right)\\right)$$\n",
        "\n",
        "Una vez operado todo queda:\n",
        "\n",
        "$$\\mathrm{Operaciones}=\\left(5+2j-\\frac{2j+1}{r}\\right)n^{2}+\\left(5+\\frac{1}{r}\\right)n+4$$\n",
        "\n",
        "Aunque es cierto que esto sería en el peor de los casos, ya que algunos bucles podrían no llegar a realizarse completamente. Pero la complejidad se debería ver poco afectada en este caso.\n",
        "\n",
        "Por tanto la complejidad será $O\\left(n^{2}\\right)$."
      ]
    },
    {
      "cell_type": "markdown",
      "metadata": {
        "id": "3M6QjTsSkmYe"
      },
      "source": [
        "Según el problema (y tenga sentido), diseña un juego de datos de entrada aleatorios"
      ]
    },
    {
      "cell_type": "markdown",
      "metadata": {
        "id": "Jc3_OlyNkvjZ"
      },
      "source": [
        "Respuesta"
      ]
    },
    {
      "cell_type": "code",
      "metadata": {
        "id": "sJ-N2etjkyWc",
        "colab": {
          "base_uri": "https://localhost:8080/"
        },
        "outputId": "52421f79-6a89-406d-df7e-91ec95a29fb8"
      },
      "source": [
        "# Matriz de 30 tomas(filas) y 10 actores(columnas) de 0 y 1\n",
        "problema_aleatorio = np.random.randint(2, size=(30,10))\n",
        "print(problema_aleatorio)"
      ],
      "execution_count": 139,
      "outputs": [
        {
          "output_type": "stream",
          "text": [
            "[[1 1 0 1 1 1 0 1 1 0]\n",
            " [0 1 0 1 0 1 1 1 0 0]\n",
            " [0 0 1 0 0 0 1 1 0 0]\n",
            " [1 0 0 0 1 1 1 1 0 1]\n",
            " [0 0 0 1 1 0 1 0 1 0]\n",
            " [1 1 0 0 1 0 0 0 0 0]\n",
            " [0 0 1 0 0 0 0 1 0 1]\n",
            " [0 0 0 1 1 1 1 1 1 0]\n",
            " [0 1 0 0 0 0 0 0 1 1]\n",
            " [0 0 0 1 1 1 1 1 0 1]\n",
            " [0 1 1 1 0 1 0 1 0 1]\n",
            " [0 0 1 0 0 0 1 1 0 1]\n",
            " [0 0 1 0 1 1 0 1 1 0]\n",
            " [1 1 0 1 0 0 0 1 0 1]\n",
            " [1 1 0 1 1 0 1 1 0 0]\n",
            " [0 0 1 0 1 1 1 1 1 0]\n",
            " [1 1 1 0 1 1 1 0 1 1]\n",
            " [1 1 0 1 1 1 1 1 1 0]\n",
            " [0 1 0 1 0 0 0 0 0 0]\n",
            " [0 0 1 0 1 0 1 1 0 0]\n",
            " [1 0 1 0 0 1 1 1 0 1]\n",
            " [1 1 1 1 1 1 0 0 1 1]\n",
            " [1 0 0 1 1 1 1 0 1 1]\n",
            " [0 1 0 1 0 0 1 1 1 0]\n",
            " [1 0 0 1 1 1 0 1 1 0]\n",
            " [0 1 1 0 1 1 0 1 1 0]\n",
            " [0 0 0 1 1 1 1 1 0 0]\n",
            " [0 0 1 1 1 0 0 1 1 0]\n",
            " [1 1 0 0 1 0 1 1 1 0]\n",
            " [0 1 1 1 1 1 1 0 1 0]]\n"
          ],
          "name": "stdout"
        }
      ]
    },
    {
      "cell_type": "markdown",
      "metadata": {
        "id": "zy5ZROmjlGo1"
      },
      "source": [
        "Aplica el algoritmo al juego de datos generado"
      ]
    },
    {
      "cell_type": "markdown",
      "metadata": {
        "id": "_Cmj-PVylMsa"
      },
      "source": [
        "Respuesta"
      ]
    },
    {
      "cell_type": "code",
      "metadata": {
        "id": "Jkx8GeiYlUz1",
        "colab": {
          "base_uri": "https://localhost:8080/"
        },
        "outputId": "4283603e-2314-4666-e27d-a5835301b97d"
      },
      "source": [
        "# Muestra por pantalla la cota inferior y superior del gasto del problema\n",
        "print('Cota inferior:', cota_inferior_total(problema_aleatorio))\n",
        "print('Cota superior:', cota_superior_total(problema_aleatorio))\n",
        "print('\\n')\n",
        "# Calculo de la solución\n",
        "solucion_aleatoria = voraz(problema_aleatorio)\n",
        "\n",
        "# Muestra por pantalla la solución y gasto\n",
        "print(solucion_aleatoria)\n",
        "print('Gasto total:', gasto(solucion_aleatoria, problema_aleatorio)[0])"
      ],
      "execution_count": 144,
      "outputs": [
        {
          "output_type": "stream",
          "text": [
            "Cota inferior: 30.0\n",
            "Cota superior: 161\n",
            "\n",
            "\n",
            "[0. 2. 4. 3. 4. 4. 3. 1. 4. 1. 2. 3. 3. 4. 2. 1. 0. 0. 4. 3. 2. 0. 1. 2.\n",
            " 0. 1. 1. 3. 2. 0.]\n",
            "Gasto total: 48\n"
          ],
          "name": "stdout"
        }
      ]
    },
    {
      "cell_type": "markdown",
      "metadata": {
        "id": "eTFWUJQrtGcv"
      },
      "source": [
        "Enumera las referencias que has utilizado(si ha sido necesario) para llevar a cabo el trabajo"
      ]
    },
    {
      "cell_type": "markdown",
      "metadata": {
        "id": "YKQ_mRBttWsP"
      },
      "source": [
        "Respuesta"
      ]
    },
    {
      "cell_type": "markdown",
      "metadata": {
        "id": "kAkDPUyRtYyH"
      },
      "source": [
        "Describe brevemente las lineas de como crees que es posible avanzar en el estudio del problema. Ten en cuenta incluso posibles variaciones del problema y/o variaciones al alza del tamaño"
      ]
    },
    {
      "cell_type": "markdown",
      "metadata": {
        "id": "IE0uZmo-tZu-"
      },
      "source": [
        "Probablemente el algoritmo más indicado si se quiere hallar la solución más óptima de todas, y no solo una cercana a ella, sea el de ramificación y poda. Aunque, en ese caso hallar las cotas superiores e inferiores de los nodos seguramente no sería una tarea sencilla debido al gran número de posibilidades, inicialmente seguramente sería simple ir quitandose las ramas que claramente son menos óptimas. Básicamente para este caso, todas las ramas que tengan pocas tomas cada día. \n",
        "\n",
        "Tal y como se indicó en la pregunta de las posibilidades con restricciones, el número de posiblidades también se podría reducir más si a la hora de inspecionar las posibles soluciones se evitasen las selecciones de tomas donde los grupos de estas fuesen los mismos, pero en días diferentes, ya que el gasto va a ser el mismo en esos casos.\n",
        "\n",
        "Haciendose esto se podrían evitar un gran número de soluciones, que aunque diferentes, tendrían el mismo gasto."
      ]
    }
  ]
}